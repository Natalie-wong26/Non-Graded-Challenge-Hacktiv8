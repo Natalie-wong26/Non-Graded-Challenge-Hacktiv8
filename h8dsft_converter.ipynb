{
 "cells": [
  {
   "cell_type": "markdown",
   "metadata": {},
   "source": [
    "## Soal\n",
    "- Buatlah sebuah function yang dapat mengkonversi suhu dari kelvin ke celcius, dan celcius ke kelvin.\n",
    "- Buatlah sebuah function yang dapat mengkonversi suhu ke fahrenheit. Tambahkan parameter untuk memastikan bahwa argumen yang dimasukan adalah celcius atau kelvin. Panggil function yang pertama jika diperlukan.\n",
    "- Buatlah sebuah function yang dapat mengkonversi suhu dari fahrenheit. Berikan argumen untuk memastikan bahwa outputnya dalah celcius atau kelvin.\n",
    "- Berikan dokumentasi pada setiap baris kode yang kalian tulis."
   ]
  },
  {
   "cell_type": "markdown",
   "metadata": {},
   "source": [
    "## Jawaban"
   ]
  },
  {
   "cell_type": "markdown",
   "metadata": {},
   "source": [
    "Variabel yang digunakan:\n",
    "- temp = angka suhu awal\n",
    "- unit = unit suhu awal (F/K/C)\n",
    "- temp_converted = angka suhu yang sudah dikonversi\n",
    "- unit_converted unit suhu yang sudah dikonversi (F/K/C)"
   ]
  },
  {
   "cell_type": "markdown",
   "metadata": {},
   "source": [
    "### Function untuk mengkonversi suhu dari kelvin ke celcius, dan celcius ke kelvin."
   ]
  },
  {
   "cell_type": "code",
   "execution_count": 10,
   "metadata": {},
   "outputs": [
    {
     "name": "stdout",
     "output_type": "stream",
     "text": [
      "Suhu 100.0 K dikonversi menjadi -173.15 C\n"
     ]
    }
   ],
   "source": [
    "def conK_C(temp): \n",
    "    '''\n",
    "    fungsi untuk mengkonversi suhu dari Kelvin ke Celcius\n",
    "    param   : temp: suhu awal | float\n",
    "    output  : temp_converted: suhu Kelvin | float\n",
    "    '''\n",
    "    temp_converted = round(float(temp - 273.15),2)\n",
    "    return temp_converted\n",
    "\n",
    "def conC_K(temp):\n",
    "    '''\n",
    "    fungsi untuk mengkonversi suhu dari Celcius ke Kelvin\n",
    "    param   : temp: suhu awal | float\n",
    "    output  : temp_converted: suhu Celcius | float\n",
    "    '''\n",
    "    temp_converted = round(float(temp + 273.15),2)\n",
    "    return temp_converted\n",
    "\n",
    "# meminta input dari user\n",
    "temp = float(input(\"Masukan suhu (contoh: 102, 300, 200): \")) # suhu awal\n",
    "unit = input(\"Masukan unit suhu (K/C): \").capitalize() # unit awal\n",
    "\n",
    "# jika unit awal C maka dikonversi menjadi K dan sebaliknya, selain dari itu beritahu user untuk memasukkan unit yang benar\n",
    "if unit == \"K\":\n",
    "    temp_converted = conK_C(temp) # assign value dari return fungsi conK_C() | float\n",
    "    unit_converted = \"C\"\n",
    "elif unit == \"C\":\n",
    "    temp_converted = conC_K(temp) # assign value dari return fungsi conC_K() | float\n",
    "    unit_converted = \"K\"\n",
    "else:\n",
    "    print(\"Masukan unit suhu yang benar\")\n",
    "\n",
    "\n",
    "print(f\"Suhu {temp} {unit} dikonversi menjadi {temp_converted} {unit_converted}\")"
   ]
  },
  {
   "cell_type": "markdown",
   "metadata": {},
   "source": [
    "### Function untuk mengkonversi suhu dari Celcius atau Kelvin ke fahrenheit"
   ]
  },
  {
   "cell_type": "code",
   "execution_count": 3,
   "metadata": {},
   "outputs": [
    {
     "name": "stdout",
     "output_type": "stream",
     "text": [
      "Suhu 900.0 C dikonversi menjadi 1652 C\n"
     ]
    }
   ],
   "source": [
    "def convert2(temp):\n",
    "    '''\n",
    "    fungsi untuk mengkonversi suhu dari Celcius atau Kelvin ke Farenheit\n",
    "    param   : temp: suhu awal | float\n",
    "    output  : temp_converted: suhu Farenheit | float\n",
    "    '''\n",
    "    if unit == \"C\":\n",
    "        temp_converted = round(float(9*temp + (32*5))/5)\n",
    "    elif unit == \"K\":\n",
    "        # Untuk mengkonversi dari K ke F harus dikonversi ke C terlebih dahulu, disini saya memanggil fungsi pertama conK_C untuk mengkonversi K ke C\n",
    "        temp_converted = round(float(9*(conK_C(temp)) + (32*5))/5) \n",
    "    else:\n",
    "        print(\"Masukan unit suhu yang benar\") # Jika unit awal yang diinput user selain dari C atau K, beritahu user untuk memasukkan unit yang benar \n",
    "    return temp_converted\n",
    "    \n",
    "# meminta input dari user\n",
    "temp = float(input(\"Masukan suhu (contoh: 102, 300, 200): \")) # suhu awal\n",
    "unit = input(\"Masukan unit suhu (K/C): \").capitalize() # unit awal\n",
    "\n",
    "unit_converted = \"F\"\n",
    "temp_converted = convert2(temp) # assign value dari return fungsi convert2 | float\n",
    "\n",
    "print(f\"Suhu {temp} {unit} dikonversi menjadi {temp_converted} {unit_converted}\")"
   ]
  },
  {
   "cell_type": "markdown",
   "metadata": {},
   "source": [
    "### Function untuk mengkorversi suhu dari Farenheit ke Celcius atau Kelvin"
   ]
  },
  {
   "cell_type": "code",
   "execution_count": 9,
   "metadata": {},
   "outputs": [
    {
     "name": "stdout",
     "output_type": "stream",
     "text": [
      "Suhu 100.0 F dikonversi menjadi 310.93 K\n"
     ]
    }
   ],
   "source": [
    "def convert3(temp):\n",
    "    '''\n",
    "    fungsi untuk mengkonversi suhu dari Farenheit ke Celcius atau Kelvin\n",
    "    param   : temp: suhu awal | float\n",
    "    output  : temp_converted: suhu Celcius atau Kelvin | float\n",
    "    '''\n",
    "    if unit_converted == \"C\":\n",
    "        temp_converted = round(float((temp-32)*5/9),2)\n",
    "    elif unit_converted == \"K\":\n",
    "        temp_converted = round(float(((temp-32)*5/9)+273.15),2)\n",
    "    else:\n",
    "        print(\"Masukan unit suhu yang benar\") # Jika unit yang ingin dikonversi yang diinput user selain dari C atau K, beritahu user untuk memasukkan unit yang benar\n",
    "    return temp_converted\n",
    "\n",
    "# meminta input dari user\n",
    "temp = float(input(\"Masukan suhu (contoh: 102, 300, 200): \")) # suhu awal\n",
    "unit_converted = input(\"Masukan unit suhu yang ingin dikonversi dari Farenheit (K/C): \").capitalize() # unit suhu yang ingin dikonversi dari F\n",
    "\n",
    "\n",
    "temp_converted = convert3(temp)# assign value dari return fungsi convert3 | float\n",
    "unit = \"F\"\n",
    "print(f\"Suhu {temp} {unit} dikonversi menjadi {temp_converted} {unit_converted}\")"
   ]
  }
 ],
 "metadata": {
  "interpreter": {
   "hash": "380030d1298d5a27518acca789ff38fe82bbf2e68b73263de6a6bf23efb7704c"
  },
  "kernelspec": {
   "display_name": "Python 3.8.8 64-bit ('base': conda)",
   "language": "python",
   "name": "python3"
  },
  "language_info": {
   "codemirror_mode": {
    "name": "ipython",
    "version": 3
   },
   "file_extension": ".py",
   "mimetype": "text/x-python",
   "name": "python",
   "nbconvert_exporter": "python",
   "pygments_lexer": "ipython3",
   "version": "3.8.8"
  },
  "orig_nbformat": 4
 },
 "nbformat": 4,
 "nbformat_minor": 2
}

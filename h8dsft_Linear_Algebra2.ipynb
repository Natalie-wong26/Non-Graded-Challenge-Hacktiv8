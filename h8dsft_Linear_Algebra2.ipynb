{
 "cells": [
  {
   "cell_type": "markdown",
   "metadata": {},
   "source": [
    "### 1. Buatlah Tensor dibawah ini dengan Python:\n",
    "\n",
    "$$ \\begin{bmatrix} \\begin{bmatrix} 23 & 50 \\\\ 7 & 12 \\ \\end{bmatrix} \\begin{bmatrix} 57 & 67 \\\\ 99 & 43 \\end{bmatrix} \\\\\\\\ \\begin{bmatrix} 75 & 21 \\\\ 57 & 12 \\ \\end{bmatrix} \\begin{bmatrix} 87 & 26 \\\\ 18 & 84 \\end{bmatrix} \\end{bmatrix} $$"
   ]
  },
  {
   "cell_type": "code",
   "execution_count": 3,
   "metadata": {},
   "outputs": [
    {
     "data": {
      "text/plain": [
       "array([[[[23, 50],\n",
       "         [ 7, 12]],\n",
       "\n",
       "        [[57, 67],\n",
       "         [99, 43]],\n",
       "\n",
       "        [[75, 21],\n",
       "         [57, 12]],\n",
       "\n",
       "        [[87, 26],\n",
       "         [18, 84]]]])"
      ]
     },
     "execution_count": 3,
     "metadata": {},
     "output_type": "execute_result"
    }
   ],
   "source": [
    "import numpy as np\n",
    "soal_1 = np.array(\n",
    "    [\n",
    "        [\n",
    "            [\n",
    "                [23,50],[7,12]\n",
    "            ],\n",
    "            [\n",
    "                [57,67], [99,43]\n",
    "            ],\n",
    "            [\n",
    "                [75,21], [57,12]\n",
    "            ],\n",
    "            [\n",
    "                [87,26], [18,84]\n",
    "            ]\n",
    "        ]\n",
    "    ]\n",
    ")\n",
    "soal_1"
   ]
  },
  {
   "cell_type": "code",
   "execution_count": 4,
   "metadata": {},
   "outputs": [
    {
     "data": {
      "text/plain": [
       "(1, 4, 2, 2)"
      ]
     },
     "execution_count": 4,
     "metadata": {},
     "output_type": "execute_result"
    }
   ],
   "source": [
    "soal_1.shape"
   ]
  },
  {
   "cell_type": "markdown",
   "metadata": {},
   "source": [
    "### 2. Lakukan perkalian terhadap matrix berikut:\n",
    "\n",
    "$$ A = \\begin{bmatrix} 23 & 50 & 19 \\\\ 7 & 12 & 109 \\\\ 57 & 67 & 98 \\end{bmatrix}\\,, B = \\begin{bmatrix} 17 \\\\ 22 \\\\ 19 \\end{bmatrix} $$"
   ]
  },
  {
   "cell_type": "code",
   "execution_count": 7,
   "metadata": {},
   "outputs": [
    {
     "name": "stdout",
     "output_type": "stream",
     "text": [
      "Matriks A: \n",
      "[[ 23  50  19]\n",
      " [  7  12 109]\n",
      " [ 57  67  98]]\n",
      "\n",
      "Matriks B: [17 22 19]\n"
     ]
    }
   ],
   "source": [
    "#membuat matrix A dan B\n",
    "A = np.array([[23,50,19], [7,12,109], [57,67,98]]) # 3 baris 3 kolom\n",
    "B = np.array([17,22,19]) # 1 baris 3 kolom\n",
    "print(f'Matriks A: \\n{A}\\n')\n",
    "print(f'Matriks B: {B}')"
   ]
  },
  {
   "cell_type": "code",
   "execution_count": 14,
   "metadata": {},
   "outputs": [
    {
     "data": {
      "text/plain": [
       "array([1628, 2387, 4583])"
      ]
     },
     "execution_count": 14,
     "metadata": {},
     "output_type": "execute_result"
    }
   ],
   "source": [
    "#perkalian matrix\n",
    "B.dot(A)"
   ]
  },
  {
   "cell_type": "markdown",
   "metadata": {},
   "source": [
    "### 3. Lakukan Transpose, hitung determinan, dan inverse terhadap matrix dibawah ini:\n",
    "\n",
    "$$ A = \\begin{bmatrix} 23 & 50 & 19 \\\\ 7 & 12 & 109 \\\\ 57 & 67 & 98 \\end{bmatrix} $$"
   ]
  },
  {
   "cell_type": "code",
   "execution_count": 15,
   "metadata": {},
   "outputs": [
    {
     "data": {
      "text/plain": [
       "array([[ 23,  50,  19],\n",
       "       [  7,  12, 109],\n",
       "       [ 57,  67,  98]])"
      ]
     },
     "execution_count": 15,
     "metadata": {},
     "output_type": "execute_result"
    }
   ],
   "source": [
    "#membuat matrix A\n",
    "A = np.array([[23,50,19], [7,12,109], [57,67,98]])\n",
    "A"
   ]
  },
  {
   "cell_type": "code",
   "execution_count": 16,
   "metadata": {},
   "outputs": [
    {
     "data": {
      "text/plain": [
       "array([[ 23,   7,  57],\n",
       "       [ 50,  12,  67],\n",
       "       [ 19, 109,  98]])"
      ]
     },
     "execution_count": 16,
     "metadata": {},
     "output_type": "execute_result"
    }
   ],
   "source": [
    "#melakukan transpose pada matrix A\n",
    "A.T"
   ]
  },
  {
   "cell_type": "code",
   "execution_count": 17,
   "metadata": {},
   "outputs": [
    {
     "data": {
      "text/plain": [
       "131344.0000000002"
      ]
     },
     "execution_count": 17,
     "metadata": {},
     "output_type": "execute_result"
    }
   ],
   "source": [
    "#hitung determinan matrix A\n",
    "np.linalg.det(A)"
   ]
  },
  {
   "cell_type": "code",
   "execution_count": 18,
   "metadata": {},
   "outputs": [
    {
     "data": {
      "text/plain": [
       "array([[-0.0466485 , -0.02761451,  0.03975819],\n",
       "       [ 0.04208034,  0.00891552, -0.01807467],\n",
       "       [-0.00163692,  0.0099662 , -0.00056341]])"
      ]
     },
     "execution_count": 18,
     "metadata": {},
     "output_type": "execute_result"
    }
   ],
   "source": [
    "#hitung inverse matrix A\n",
    "np.linalg.inv(A)"
   ]
  }
 ],
 "metadata": {
  "interpreter": {
   "hash": "380030d1298d5a27518acca789ff38fe82bbf2e68b73263de6a6bf23efb7704c"
  },
  "kernelspec": {
   "display_name": "Python 3.8.8 64-bit ('base': conda)",
   "language": "python",
   "name": "python3"
  },
  "language_info": {
   "codemirror_mode": {
    "name": "ipython",
    "version": 3
   },
   "file_extension": ".py",
   "mimetype": "text/x-python",
   "name": "python",
   "nbconvert_exporter": "python",
   "pygments_lexer": "ipython3",
   "version": "3.8.8"
  },
  "orig_nbformat": 4
 },
 "nbformat": 4,
 "nbformat_minor": 2
}

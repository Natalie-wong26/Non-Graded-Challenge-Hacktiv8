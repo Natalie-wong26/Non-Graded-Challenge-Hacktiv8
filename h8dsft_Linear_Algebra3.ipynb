{
 "cells": [
  {
   "cell_type": "markdown",
   "metadata": {},
   "source": [
    "Apakah $\\begin{bmatrix}1 \\\\3\\end{bmatrix}$ adalah eigenvector dari $\\begin{bmatrix}1 & -1\\\\6 &-4 \\end{bmatrix}$? Jika iya, berapakah eigenvalue-nya?"
   ]
  },
  {
   "cell_type": "markdown",
   "metadata": {},
   "source": [
    "## Jawaban"
   ]
  },
  {
   "cell_type": "markdown",
   "metadata": {},
   "source": [
    "Rumus: A $x = \\lambda x$\n",
    "\n",
    "$\\begin{bmatrix}1 & -1\\\\6 &-4 \\end{bmatrix} \\begin{bmatrix}1 \\\\3\\end{bmatrix} = \\lambda \\begin{bmatrix}1 \\\\3\\end{bmatrix}\\\\$\n",
    "\n",
    "$\\begin{bmatrix}-2 \\\\-6\\end{bmatrix} = \\lambda \\begin{bmatrix}1 \\\\3\\end{bmatrix}\\\\$\n",
    "\n",
    "$-2\\begin{bmatrix}1 \\\\ 3\\end{bmatrix} = \\lambda \\begin{bmatrix}1 \\\\ 3\\end{bmatrix}\\\\$\n",
    "\n",
    "$\\lambda = -2 \\ (eigenvalue)$\n"
   ]
  },
  {
   "cell_type": "markdown",
   "metadata": {},
   "source": [
    "$\\begin{bmatrix}1 \\\\3\\end{bmatrix}$ benar adalah eigenvector dari $\\begin{bmatrix}1 & -1\\\\6 &-4 \\end{bmatrix}$ .Valuenya adalah 2"
   ]
  }
 ],
 "metadata": {
  "interpreter": {
   "hash": "380030d1298d5a27518acca789ff38fe82bbf2e68b73263de6a6bf23efb7704c"
  },
  "kernelspec": {
   "display_name": "Python 3.8.8 64-bit ('base': conda)",
   "language": "python",
   "name": "python3"
  },
  "language_info": {
   "codemirror_mode": {
    "name": "ipython",
    "version": 3
   },
   "file_extension": ".py",
   "mimetype": "text/x-python",
   "name": "python",
   "nbconvert_exporter": "python",
   "pygments_lexer": "ipython3",
   "version": "3.8.8"
  },
  "orig_nbformat": 4
 },
 "nbformat": 4,
 "nbformat_minor": 2
}
